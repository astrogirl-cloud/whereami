{
 "cells": [
  {
   "cell_type": "code",
   "execution_count": 4,
   "metadata": {},
   "outputs": [],
   "source": [
    "import numpy as np\n",
    "import matplotlib\n",
    "import matplotlib.pyplot as plt\n",
    "import os \n",
    "from mpl_toolkits.basemap import Basemap\n",
    "from itertools import chain\n"
   ]
  },
  {
   "cell_type": "code",
   "execution_count": 5,
   "metadata": {},
   "outputs": [],
   "source": [
    "################\n",
    "def draw_map(m, scale=0.2):\n",
    "    # draw a shaded-relief image\n",
    "    m.shadedrelief(scale=scale)\n",
    "    \n",
    "    # lats and longs are returned as a dictionary\n",
    "    lats = m.drawparallels(np.linspace(-90, 90, 13))\n",
    "    lons = m.drawmeridians(np.linspace(-180, 180, 13))\n",
    "\n",
    "    # keys contain the plt.Line2D instances\n",
    "    lat_lines = chain(*(tup[1][0] for tup in lats.items()))\n",
    "    lon_lines = chain(*(tup[1][0] for tup in lons.items()))\n",
    "    all_lines = chain(lat_lines, lon_lines)\n",
    "    \n",
    "    # cycle through these lines and set the desired style\n",
    "    for line in all_lines:\n",
    "        line.set(linestyle='-', alpha=0.3, color='w')"
   ]
  },
  {
   "cell_type": "code",
   "execution_count": null,
   "metadata": {
    "scrolled": true
   },
   "outputs": [],
   "source": [
    "### This calcuates lat, long and elevation at any particular date and time\n",
    "\n",
    "from skyfield.api import Topos, load, utc\n",
    "from skyfield.api import EarthSatellite\n",
    "import time \n",
    "import datetime \n",
    "\n",
    "ts = load.timescale()\n",
    "\n",
    "stations_url = 'https://www.celestrak.com/NORAD/elements/active.txt'\n",
    "satellites = load.tle_file(stations_url)\n",
    "\n",
    "\n",
    "### Retrieve TLE for particular satellite by name\n",
    "by_name = {sat.name: sat for sat in satellites}\n",
    "satellite = by_name['LEMUR-2-DJARA']\n",
    "#print(satellite.epoch.utc_jpl())\n",
    "#print (satellite)\n",
    "\n",
    "fig = plt.figure(figsize=(16, 12), edgecolor='w')\n",
    "\n",
    "m = Basemap(projection='cyl', resolution=None,\n",
    "            llcrnrlat=-90, urcrnrlat=90,\n",
    "            llcrnrlon=-180, urcrnrlon=180, )\n",
    "draw_map(m)\n",
    "\n",
    "# Draw AoIs on world map given BL, TL, TR, BR coordinates\n",
    "\n",
    "aa,ba = [[80, 80, 160, 160],[-90, 90, 90, -90]] #Create list of AoI lat/long pairs\n",
    "ab,bb = [[147, 147, 150, 150, 147],[-36, -34, -34, -36, -36]]\n",
    "ac,bc = [[-145.3, -145.3, -109.5, -109.5, -145.3],[7.3, 11.1, 11.1, 7.3, 7.3]]\n",
    "ad,bd = [[-82.0, -82.0, -39.3, -39.3, -82.0],[27.6, 55.7, 55.7, 27.6, 27.6]]\n",
    "plt.plot(aa, ba, '--b')\n",
    "plt.text(80, 80, 'Tx Mars', fontsize=12)\n",
    "plt.plot(ab, bb, '--b')\n",
    "plt.text(147, -34, 'Rx Jupiter', fontsize=12)\n",
    "plt.plot(ac, bc, '--b')\n",
    "plt.text(-145, 11.1, 'Rx Mars', fontsize=12)\n",
    "plt.plot(ad, bd, '--b')\n",
    "plt.text(-82, 55.7, 'Rx Jupiter', fontsize=12)\n",
    "\n",
    "tnow=ts.utc(2021, 2, 17, 2, 23, 18)  #### Set the time you're interested in or alternatively ise ts.now() for current position\n",
    "geocentric = satellite.at(tnow)\n",
    "subpoint = geocentric.subpoint()\n",
    "lat = subpoint.latitude\n",
    "long = subpoint.longitude\n",
    "\n",
    "print('Latitude:', lat)\n",
    "print('Longitude:', long)\n",
    "print('Elevation (m):', int(subpoint.elevation.m))\n",
    "latnows = int(str(lat)[:-13])\n",
    "longnows = int(str(long)[:-13])\n",
    "\n",
    "x, y = m(longnows, latnows)  ### put longitude first, then latitude\n",
    "plt.plot(x, y, 'ok', markersize=7)\n",
    "plt.text(x, y, ' Djara', fontsize=12)"
   ]
  },
  {
   "cell_type": "code",
   "execution_count": null,
   "metadata": {},
   "outputs": [],
   "source": [
    "### Convert AEDT date and time to UTS\n",
    "\n",
    "import datetime\n",
    "UTS = datetime.datetime(2021,1,28,10,41,26).timestamp() ### date and time in AEDT\n",
    "print(UTS)"
   ]
  },
  {
   "cell_type": "code",
   "execution_count": null,
   "metadata": {},
   "outputs": [],
   "source": [
    "### Convert UTS to readable AEDT date time\n",
    "\n",
    "import datetime\n",
    "\n",
    "UTS = int('1612227959')\n",
    "\n",
    "AEDT = (datetime.datetime.fromtimestamp(UTS).strftime('%Y-%m-%d %H:%M:%S'))\n",
    "print ('UTS of', UTS, 'corresponds to AEDT:', AEDT)"
   ]
  }
 ],
 "metadata": {
  "kernelspec": {
   "display_name": "Python 3",
   "language": "python",
   "name": "python3"
  },
  "language_info": {
   "codemirror_mode": {
    "name": "ipython",
    "version": 3
   },
   "file_extension": ".py",
   "mimetype": "text/x-python",
   "name": "python",
   "nbconvert_exporter": "python",
   "pygments_lexer": "ipython3",
   "version": "3.7.6"
  }
 },
 "nbformat": 4,
 "nbformat_minor": 4
}
